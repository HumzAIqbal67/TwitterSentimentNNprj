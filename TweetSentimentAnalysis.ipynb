{
  "nbformat": 4,
  "nbformat_minor": 0,
  "metadata": {
    "colab": {
      "provenance": [],
      "authorship_tag": "ABX9TyOZ/6WVLMsmjDMPUnhI0xD6",
      "include_colab_link": true
    },
    "kernelspec": {
      "name": "python3",
      "display_name": "Python 3"
    },
    "language_info": {
      "name": "python"
    }
  },
  "cells": [
    {
      "cell_type": "markdown",
      "metadata": {
        "id": "view-in-github",
        "colab_type": "text"
      },
      "source": [
        "<a href=\"https://colab.research.google.com/github/HumzAIqbal67/TwitterSentimentNNprj/blob/main/TweetSentimentAnalysis.ipynb\" target=\"_parent\"><img src=\"https://colab.research.google.com/assets/colab-badge.svg\" alt=\"Open In Colab\"/></a>"
      ]
    },
    {
      "cell_type": "code",
      "source": [
        "!pip install joblib"
      ],
      "metadata": {
        "colab": {
          "base_uri": "https://localhost:8080/"
        },
        "id": "c67og-9L1yqe",
        "outputId": "63e27a25-9900-40ce-90cd-fa1dce2e01cb"
      },
      "execution_count": 25,
      "outputs": [
        {
          "output_type": "stream",
          "name": "stdout",
          "text": [
            "Requirement already satisfied: joblib in /usr/local/lib/python3.10/dist-packages (1.3.2)\n"
          ]
        }
      ]
    },
    {
      "cell_type": "code",
      "execution_count": 56,
      "metadata": {
        "id": "QWPjCETLI4gc"
      },
      "outputs": [],
      "source": [
        "import numpy as np\n",
        "import pandas as pd\n",
        "import matplotlib.pyplot as plt\n",
        "import joblib\n",
        "import itertools\n",
        "\n",
        "import tensorflow as tf\n",
        "import tensorflow_hub as hub"
      ]
    },
    {
      "cell_type": "code",
      "source": [
        "df = pd.read_csv(\"CyberBullying-Comments-Dataset.csv\",usecols=['Text', 'CB_Label'])"
      ],
      "metadata": {
        "id": "Uch6CyBGJ5IZ"
      },
      "execution_count": 5,
      "outputs": []
    },
    {
      "cell_type": "code",
      "source": [
        "df.head()"
      ],
      "metadata": {
        "colab": {
          "base_uri": "https://localhost:8080/",
          "height": 206
        },
        "id": "2H1TS3EVKhXX",
        "outputId": "856edb8c-19e7-48ba-833e-61833623e103"
      },
      "execution_count": 6,
      "outputs": [
        {
          "output_type": "execute_result",
          "data": {
            "text/plain": [
              "                                                Text  CB_Label\n",
              "0  damn there is someones nana up here at beach w...         0\n",
              "1  no kidding! dick clark was a corpse mechanical...         0\n",
              "2  i read an article on jobros and thought damn w...         0\n",
              "3  I got one fucking day of sprinkles and now it'...         0\n",
              "4  I was already listening to Elliott smith  and ...         0"
            ],
            "text/html": [
              "\n",
              "  <div id=\"df-be1f3592-4c9b-4173-a2ec-c15d6632c5ed\" class=\"colab-df-container\">\n",
              "    <div>\n",
              "<style scoped>\n",
              "    .dataframe tbody tr th:only-of-type {\n",
              "        vertical-align: middle;\n",
              "    }\n",
              "\n",
              "    .dataframe tbody tr th {\n",
              "        vertical-align: top;\n",
              "    }\n",
              "\n",
              "    .dataframe thead th {\n",
              "        text-align: right;\n",
              "    }\n",
              "</style>\n",
              "<table border=\"1\" class=\"dataframe\">\n",
              "  <thead>\n",
              "    <tr style=\"text-align: right;\">\n",
              "      <th></th>\n",
              "      <th>Text</th>\n",
              "      <th>CB_Label</th>\n",
              "    </tr>\n",
              "  </thead>\n",
              "  <tbody>\n",
              "    <tr>\n",
              "      <th>0</th>\n",
              "      <td>damn there is someones nana up here at beach w...</td>\n",
              "      <td>0</td>\n",
              "    </tr>\n",
              "    <tr>\n",
              "      <th>1</th>\n",
              "      <td>no kidding! dick clark was a corpse mechanical...</td>\n",
              "      <td>0</td>\n",
              "    </tr>\n",
              "    <tr>\n",
              "      <th>2</th>\n",
              "      <td>i read an article on jobros and thought damn w...</td>\n",
              "      <td>0</td>\n",
              "    </tr>\n",
              "    <tr>\n",
              "      <th>3</th>\n",
              "      <td>I got one fucking day of sprinkles and now it'...</td>\n",
              "      <td>0</td>\n",
              "    </tr>\n",
              "    <tr>\n",
              "      <th>4</th>\n",
              "      <td>I was already listening to Elliott smith  and ...</td>\n",
              "      <td>0</td>\n",
              "    </tr>\n",
              "  </tbody>\n",
              "</table>\n",
              "</div>\n",
              "    <div class=\"colab-df-buttons\">\n",
              "\n",
              "  <div class=\"colab-df-container\">\n",
              "    <button class=\"colab-df-convert\" onclick=\"convertToInteractive('df-be1f3592-4c9b-4173-a2ec-c15d6632c5ed')\"\n",
              "            title=\"Convert this dataframe to an interactive table.\"\n",
              "            style=\"display:none;\">\n",
              "\n",
              "  <svg xmlns=\"http://www.w3.org/2000/svg\" height=\"24px\" viewBox=\"0 -960 960 960\">\n",
              "    <path d=\"M120-120v-720h720v720H120Zm60-500h600v-160H180v160Zm220 220h160v-160H400v160Zm0 220h160v-160H400v160ZM180-400h160v-160H180v160Zm440 0h160v-160H620v160ZM180-180h160v-160H180v160Zm440 0h160v-160H620v160Z\"/>\n",
              "  </svg>\n",
              "    </button>\n",
              "\n",
              "  <style>\n",
              "    .colab-df-container {\n",
              "      display:flex;\n",
              "      gap: 12px;\n",
              "    }\n",
              "\n",
              "    .colab-df-convert {\n",
              "      background-color: #E8F0FE;\n",
              "      border: none;\n",
              "      border-radius: 50%;\n",
              "      cursor: pointer;\n",
              "      display: none;\n",
              "      fill: #1967D2;\n",
              "      height: 32px;\n",
              "      padding: 0 0 0 0;\n",
              "      width: 32px;\n",
              "    }\n",
              "\n",
              "    .colab-df-convert:hover {\n",
              "      background-color: #E2EBFA;\n",
              "      box-shadow: 0px 1px 2px rgba(60, 64, 67, 0.3), 0px 1px 3px 1px rgba(60, 64, 67, 0.15);\n",
              "      fill: #174EA6;\n",
              "    }\n",
              "\n",
              "    .colab-df-buttons div {\n",
              "      margin-bottom: 4px;\n",
              "    }\n",
              "\n",
              "    [theme=dark] .colab-df-convert {\n",
              "      background-color: #3B4455;\n",
              "      fill: #D2E3FC;\n",
              "    }\n",
              "\n",
              "    [theme=dark] .colab-df-convert:hover {\n",
              "      background-color: #434B5C;\n",
              "      box-shadow: 0px 1px 3px 1px rgba(0, 0, 0, 0.15);\n",
              "      filter: drop-shadow(0px 1px 2px rgba(0, 0, 0, 0.3));\n",
              "      fill: #FFFFFF;\n",
              "    }\n",
              "  </style>\n",
              "\n",
              "    <script>\n",
              "      const buttonEl =\n",
              "        document.querySelector('#df-be1f3592-4c9b-4173-a2ec-c15d6632c5ed button.colab-df-convert');\n",
              "      buttonEl.style.display =\n",
              "        google.colab.kernel.accessAllowed ? 'block' : 'none';\n",
              "\n",
              "      async function convertToInteractive(key) {\n",
              "        const element = document.querySelector('#df-be1f3592-4c9b-4173-a2ec-c15d6632c5ed');\n",
              "        const dataTable =\n",
              "          await google.colab.kernel.invokeFunction('convertToInteractive',\n",
              "                                                    [key], {});\n",
              "        if (!dataTable) return;\n",
              "\n",
              "        const docLinkHtml = 'Like what you see? Visit the ' +\n",
              "          '<a target=\"_blank\" href=https://colab.research.google.com/notebooks/data_table.ipynb>data table notebook</a>'\n",
              "          + ' to learn more about interactive tables.';\n",
              "        element.innerHTML = '';\n",
              "        dataTable['output_type'] = 'display_data';\n",
              "        await google.colab.output.renderOutput(dataTable, element);\n",
              "        const docLink = document.createElement('div');\n",
              "        docLink.innerHTML = docLinkHtml;\n",
              "        element.appendChild(docLink);\n",
              "      }\n",
              "    </script>\n",
              "  </div>\n",
              "\n",
              "\n",
              "<div id=\"df-99aebe82-ced2-450e-a545-9c42f259ce80\">\n",
              "  <button class=\"colab-df-quickchart\" onclick=\"quickchart('df-99aebe82-ced2-450e-a545-9c42f259ce80')\"\n",
              "            title=\"Suggest charts.\"\n",
              "            style=\"display:none;\">\n",
              "\n",
              "<svg xmlns=\"http://www.w3.org/2000/svg\" height=\"24px\"viewBox=\"0 0 24 24\"\n",
              "     width=\"24px\">\n",
              "    <g>\n",
              "        <path d=\"M19 3H5c-1.1 0-2 .9-2 2v14c0 1.1.9 2 2 2h14c1.1 0 2-.9 2-2V5c0-1.1-.9-2-2-2zM9 17H7v-7h2v7zm4 0h-2V7h2v10zm4 0h-2v-4h2v4z\"/>\n",
              "    </g>\n",
              "</svg>\n",
              "  </button>\n",
              "\n",
              "<style>\n",
              "  .colab-df-quickchart {\n",
              "      --bg-color: #E8F0FE;\n",
              "      --fill-color: #1967D2;\n",
              "      --hover-bg-color: #E2EBFA;\n",
              "      --hover-fill-color: #174EA6;\n",
              "      --disabled-fill-color: #AAA;\n",
              "      --disabled-bg-color: #DDD;\n",
              "  }\n",
              "\n",
              "  [theme=dark] .colab-df-quickchart {\n",
              "      --bg-color: #3B4455;\n",
              "      --fill-color: #D2E3FC;\n",
              "      --hover-bg-color: #434B5C;\n",
              "      --hover-fill-color: #FFFFFF;\n",
              "      --disabled-bg-color: #3B4455;\n",
              "      --disabled-fill-color: #666;\n",
              "  }\n",
              "\n",
              "  .colab-df-quickchart {\n",
              "    background-color: var(--bg-color);\n",
              "    border: none;\n",
              "    border-radius: 50%;\n",
              "    cursor: pointer;\n",
              "    display: none;\n",
              "    fill: var(--fill-color);\n",
              "    height: 32px;\n",
              "    padding: 0;\n",
              "    width: 32px;\n",
              "  }\n",
              "\n",
              "  .colab-df-quickchart:hover {\n",
              "    background-color: var(--hover-bg-color);\n",
              "    box-shadow: 0 1px 2px rgba(60, 64, 67, 0.3), 0 1px 3px 1px rgba(60, 64, 67, 0.15);\n",
              "    fill: var(--button-hover-fill-color);\n",
              "  }\n",
              "\n",
              "  .colab-df-quickchart-complete:disabled,\n",
              "  .colab-df-quickchart-complete:disabled:hover {\n",
              "    background-color: var(--disabled-bg-color);\n",
              "    fill: var(--disabled-fill-color);\n",
              "    box-shadow: none;\n",
              "  }\n",
              "\n",
              "  .colab-df-spinner {\n",
              "    border: 2px solid var(--fill-color);\n",
              "    border-color: transparent;\n",
              "    border-bottom-color: var(--fill-color);\n",
              "    animation:\n",
              "      spin 1s steps(1) infinite;\n",
              "  }\n",
              "\n",
              "  @keyframes spin {\n",
              "    0% {\n",
              "      border-color: transparent;\n",
              "      border-bottom-color: var(--fill-color);\n",
              "      border-left-color: var(--fill-color);\n",
              "    }\n",
              "    20% {\n",
              "      border-color: transparent;\n",
              "      border-left-color: var(--fill-color);\n",
              "      border-top-color: var(--fill-color);\n",
              "    }\n",
              "    30% {\n",
              "      border-color: transparent;\n",
              "      border-left-color: var(--fill-color);\n",
              "      border-top-color: var(--fill-color);\n",
              "      border-right-color: var(--fill-color);\n",
              "    }\n",
              "    40% {\n",
              "      border-color: transparent;\n",
              "      border-right-color: var(--fill-color);\n",
              "      border-top-color: var(--fill-color);\n",
              "    }\n",
              "    60% {\n",
              "      border-color: transparent;\n",
              "      border-right-color: var(--fill-color);\n",
              "    }\n",
              "    80% {\n",
              "      border-color: transparent;\n",
              "      border-right-color: var(--fill-color);\n",
              "      border-bottom-color: var(--fill-color);\n",
              "    }\n",
              "    90% {\n",
              "      border-color: transparent;\n",
              "      border-bottom-color: var(--fill-color);\n",
              "    }\n",
              "  }\n",
              "</style>\n",
              "\n",
              "  <script>\n",
              "    async function quickchart(key) {\n",
              "      const quickchartButtonEl =\n",
              "        document.querySelector('#' + key + ' button');\n",
              "      quickchartButtonEl.disabled = true;  // To prevent multiple clicks.\n",
              "      quickchartButtonEl.classList.add('colab-df-spinner');\n",
              "      try {\n",
              "        const charts = await google.colab.kernel.invokeFunction(\n",
              "            'suggestCharts', [key], {});\n",
              "      } catch (error) {\n",
              "        console.error('Error during call to suggestCharts:', error);\n",
              "      }\n",
              "      quickchartButtonEl.classList.remove('colab-df-spinner');\n",
              "      quickchartButtonEl.classList.add('colab-df-quickchart-complete');\n",
              "    }\n",
              "    (() => {\n",
              "      let quickchartButtonEl =\n",
              "        document.querySelector('#df-99aebe82-ced2-450e-a545-9c42f259ce80 button');\n",
              "      quickchartButtonEl.style.display =\n",
              "        google.colab.kernel.accessAllowed ? 'block' : 'none';\n",
              "    })();\n",
              "  </script>\n",
              "</div>\n",
              "    </div>\n",
              "  </div>\n"
            ]
          },
          "metadata": {},
          "execution_count": 6
        }
      ]
    },
    {
      "cell_type": "code",
      "source": [
        "df = df.dropna(subset= [\"Text\", \"CB_Label\"])"
      ],
      "metadata": {
        "id": "tHku9z5tKzBB"
      },
      "execution_count": 7,
      "outputs": []
    },
    {
      "cell_type": "code",
      "source": [
        "plt.hist(df.CB_Label, bins = 3)"
      ],
      "metadata": {
        "colab": {
          "base_uri": "https://localhost:8080/",
          "height": 482
        },
        "id": "4XDqmVbSLAil",
        "outputId": "02f7768e-4d21-43b7-a117-500747aafda1"
      },
      "execution_count": 8,
      "outputs": [
        {
          "output_type": "execute_result",
          "data": {
            "text/plain": [
              "(array([5550.,    0., 5550.]),\n",
              " array([0.        , 0.33333333, 0.66666667, 1.        ]),\n",
              " <BarContainer object of 3 artists>)"
            ]
          },
          "metadata": {},
          "execution_count": 8
        },
        {
          "output_type": "display_data",
          "data": {
            "text/plain": [
              "<Figure size 640x480 with 1 Axes>"
            ],
            "image/png": "[encoded data removed]"
          },
          "metadata": {}
        }
      ]
    },
    {
      "cell_type": "code",
      "source": [
        "train, val, test = np.split(df.sample(frac=1), [int(0.8*len(df)), int(0.9*len(df))])"
      ],
      "metadata": {
        "id": "5a895kZmLd9_"
      },
      "execution_count": 9,
      "outputs": []
    },
    {
      "cell_type": "code",
      "source": [
        "def df_to_dataset(dataframe, shuffle=True, batch_size=32):\n",
        "  df = dataframe.copy()\n",
        "  labels = df.pop('CB_Label')\n",
        "  df = df[\"Text\"]\n",
        "  ds = tf.data.Dataset.from_tensor_slices((df, labels))\n",
        "  if shuffle:\n",
        "    ds = ds.shuffle(buffer_size=len(dataframe))\n",
        "  ds = ds.batch(batch_size)\n",
        "  ds = ds.prefetch(tf.data.AUTOTUNE)\n",
        "  return ds"
      ],
      "metadata": {
        "id": "CE_tZ8rWL12n"
      },
      "execution_count": 10,
      "outputs": []
    },
    {
      "cell_type": "code",
      "source": [
        "train_data = df_to_dataset(train)\n",
        "valid_data = df_to_dataset(val)\n",
        "test_data = df_to_dataset(test)"
      ],
      "metadata": {
        "id": "LrOBc0Wz29_w"
      },
      "execution_count": 11,
      "outputs": []
    },
    {
      "cell_type": "code",
      "source": [
        "list(valid_data)[0]"
      ],
      "metadata": {
        "colab": {
          "base_uri": "https://localhost:8080/"
        },
        "id": "QAtjCdPl3CKk",
        "outputId": "55c0c5ce-be1b-48fd-ae03-5c1d96120866"
      },
      "execution_count": 12,
      "outputs": [
        {
          "output_type": "execute_result",
          "data": {
            "text/plain": [
              "(<tf.Tensor: shape=(32,), dtype=string, numpy=\n",
              " array([b'  hahaha hmmm im not surreee', b'  An eagle definantly.',\n",
              "        b'\"You\\'re a dim-wit.\"',\n",
              "        b'\"lol you act like you have been watching basketball forever, its only ben 8 years moron\\\\n\"',\n",
              "        b'ass balls... lmfao.',\n",
              "        b'45 windows and only 12 open and about 30 people on break I mean I want 23 a hour to do not a damn thing',\n",
              "        b'I hate .... you .... zzzzzzzz',\n",
              "        b\"I hate that I couldn't guess MJ  that songs an obvious classic. Guess I need to take some time and listen to the 70s groove.\",\n",
              "        b'\"That comment made zero sense. \\\\\\\\n\\\\\\\\nNice try, retard. Get the fuck out of here. Nobody knows who the fuck you are.\"',\n",
              "        b'\"You can\\'t see it because you\\'re a clueless idiot. Show me how he is helping the middle class you stupid Obama semen slurper\"',\n",
              "        b'\"bettynm\\\\xa0It\\'s too bad your not one of the idiots who can read as he\\'s said it\\'s hidden and not buried. As as outsider to your area, I think it\\'s a shame that your so greedy that you don\\'t want to share the beautiful of this land with others too. You sound like a bitter sad person. I\\'d take bad karma over that, any day.\\\\xa0\"',\n",
              "        b\"awww that sucks I'm sorry!!!\",\n",
              "        b' yup yup. same grade as you too.', b'  makenzie.',\n",
              "        b'I hate that! We are supposed to get about 8\" before the sleet comes. They will get at least one day of fluffy stuff!',\n",
              "        b\"Maybe they're looking for Carl!!!  That damn Carl.\",\n",
              "        b\"I hate hot weather  makes me want to punch people... Just because it's hot\",\n",
              "        b'\"Bla, bla, bla. \\\\xa0Grow up little boy. You seem utterly clueless.\"',\n",
              "        b'but worth the cost and pain in the ass when you see all your boston pals... right?',\n",
              "        b'i hate everything about you- 3 days grace',\n",
              "        b'\"When your species finally evolves, then we can talk, until then you are nothing more than a common pet.\"',\n",
              "        b\"I'm up too! whoopee fuck! not hung over AT ALL!\",\n",
              "        b'Het hate is all about sad poons.',\n",
              "        b'\"If only everybody was as intelligent as you are....\"',\n",
              "        b'damn that store! ~*Krystle*~',\n",
              "        b'\"gawd you\\'re f*cking pathetic, how sick is your life to be so hateful?\"',\n",
              "        b\"make love not war.  don't playa hate  congratulate.   sorry for the cheese. but its true.  be kinda kind.\",\n",
              "        b'guess who made a fucking surprise in my dreams last night you butthead!!! thanks to you Martha Stewert loves my dreams! baaah',\n",
              "        b' Don&;t call her a bitch vv',\n",
              "        b'\"your all talk; if you saw a black man in the street your pale ass would run the other way. you stupid racist bastard.\"',\n",
              "        b\"7th Street Entry has filled in very nicely. He's got the fucking crowd in his hands  molding them how he wants.\",\n",
              "        b\"checked it out...looks like it's well on it's way to being pretty damn awesome :)\"],\n",
              "       dtype=object)>,\n",
              " <tf.Tensor: shape=(32,), dtype=int64, numpy=\n",
              " array([0, 0, 1, 1, 1, 1, 1, 0, 1, 1, 1, 0, 0, 0, 0, 1, 0, 1, 0, 0, 1, 1,\n",
              "        0, 1, 1, 1, 0, 1, 1, 1, 0, 0])>)"
            ]
          },
          "metadata": {},
          "execution_count": 12
        }
      ]
    },
    {
      "cell_type": "code",
      "source": [
        "list(test_data)[0]"
      ],
      "metadata": {
        "colab": {
          "base_uri": "https://localhost:8080/"
        },
        "id": "dEl97-RO3NCx",
        "outputId": "24c4f3a8-44c1-46e2-fb0f-5147ae4de5c2"
      },
      "execution_count": 13,
      "outputs": [
        {
          "output_type": "execute_result",
          "data": {
            "text/plain": [
              "(<tf.Tensor: shape=(32,), dtype=string, numpy=\n",
              " array([b\"He's an asshole. I'd fucking bean him  for love of the game. Not starring Kevin Costner.\",\n",
              "        b' Do you consider yourself a good dancer?',\n",
              "        b\"that sucks.  I do both at my work  which is a pain the rear-end too  because everyone thinks they're designers ;)\",\n",
              "        b\" Yes indeed and french vanilla ice cream in it.  It's horribly calorie and fat laden but worth it!\",\n",
              "        b\"if you can get me a signed copy of Jordan's book....we'll pull some qoutes during shows.  That guy kicks ass muchos muchos  wow\",\n",
              "        b'no fucking crazy josh!!!!', b'why do i look so fat?',\n",
              "        b'AND DAMN I JUST LOST /AGAIN/.',\n",
              "        b\" GOOD! Now u can bring ur happy lil' ass over here & help me finish hanging this garland.  ;-)\",\n",
              "        b'Sorry to hear that  lol. You are going to hate the keyboard for twitter & texting.',\n",
              "        b'52nd street. fuck. that. good album. but fuck. that.',\n",
              "        b'  okay :o',\n",
              "        b'Gearhound would be PC  my wife calls me a gear whore;) Icelantic is a new company out of Boulder  Co.',\n",
              "        b'  :) Aww!! Yeahh she is my best friend * raphaela * Haha. She is german so i guess thts why! lmao <3',\n",
              "        b'\"fuck this server, mods and admins and staff are corrupt, fuck it and fuck anyone who plays here, i got banned for saying \"welcome\" to the owner, fuck.\"',\n",
              "        b'\"Dear Pingback, fuck you or using \"vidya\" It\\'s stupid as shit and you\\'re not fucking funny or part of a precious internet club GTFO\\\\r\\\\nThat goes with you Oldfag, only exception is that \"fag\" is overused. Die bitch\"',\n",
              "        b'\"what is a hater? only a moron uses that term, making you a moron. \\\\n\\\\nI don\\'t like when it rains, am i just a rain hater?\\\\n\\\\n\"',\n",
              "        b'\"\\\\xa0You\\'re another fucking idiot who knows nothing about drugs.\\\\n\\\\nWIKIPEDIA HAS THE MOLECULAR FUCKING STRUCTURE OF A GREAT MANY DIFFERENT ILLEGAL DRUGS, FUCKO.\"',\n",
              "        b'  :)', b'\"you are very ignorant...\"', b'wow   that sucks.',\n",
              "        b\"please don't hate. :-)\",\n",
              "        b'\"Don\\'t worry you little empty head over it .......... Just go back to wiping your ass on your hula hoop.\"',\n",
              "        b'Just got it in !! quick little 15 min with a run up 6 flights !!! damn that cold air almost couldnt breathe !!',\n",
              "        b'\"you tool. this story is about charity and then you come in \"herp a derp.... cubs suck... derp....curse... go sox!\" screw off idiot\"',\n",
              "        b'The english dont give a fuck. This is established.',\n",
              "        b'\"You are full of hot air, just like Romney.\"',\n",
              "        b'Oh damn. Saw the trailer for Dark City&#8230; Looks gooood&#8230;',\n",
              "        b' ya i know cuz i am letting you know who this is. r my name is Tatum Not &quot;krista&quot;',\n",
              "        b'damn you look great in HD I mean you look great either way but ya LOL what kind of cam you use? Xoxo',\n",
              "        b'\"You stupid f uuu c \\\\xa0 \\\\xa0k. I hope you die the same way she did.\"',\n",
              "        b'\"Keep telling yourself that, you dumb tea maggot.\\\\xa0 The only true racists left are turds like you and your worthless tea maggot friends.\"'],\n",
              "       dtype=object)>,\n",
              " <tf.Tensor: shape=(32,), dtype=int64, numpy=\n",
              " array([1, 0, 1, 0, 1, 1, 0, 1, 1, 0, 0, 0, 0, 0, 1, 1, 1, 1, 0, 1, 1, 0,\n",
              "        1, 0, 1, 0, 1, 1, 1, 0, 1, 1])>)"
            ]
          },
          "metadata": {},
          "execution_count": 13
        }
      ]
    },
    {
      "cell_type": "code",
      "source": [
        "embedding = \"https://tfhub.dev/google/nnlm-en-dim50/2\"\n",
        "hub_layer = hub.KerasLayer(embedding, dtype=tf.string, trainable=True)"
      ],
      "metadata": {
        "id": "c8LU4mo43TeX"
      },
      "execution_count": 14,
      "outputs": []
    },
    {
      "cell_type": "code",
      "source": [
        "hub_layer(list(train_data)[0][0])"
      ],
      "metadata": {
        "colab": {
          "base_uri": "https://localhost:8080/"
        },
        "id": "mLwz-AtC3Wlt",
        "outputId": "beeda87d-ce3b-4577-c32a-d07552cd0900"
      },
      "execution_count": 15,
      "outputs": [
        {
          "output_type": "execute_result",
          "data": {
            "text/plain": [
              "<tf.Tensor: shape=(32, 50), dtype=float32, numpy=\n",
              "array([[ 0.33000126, -0.03661346, -0.22715333, ...,  0.10008289,\n",
              "         0.08923772, -0.10006213],\n",
              "       [ 0.42603484, -0.36284736, -0.14301658, ..., -0.02077007,\n",
              "         0.00055379,  0.07286985],\n",
              "       [ 0.42878076, -0.20548125, -0.14293729, ...,  0.04205001,\n",
              "         0.0179269 ,  0.07592986],\n",
              "       ...,\n",
              "       [ 0.32737395,  0.00773014,  0.01509081, ...,  0.19921872,\n",
              "         0.37312034, -0.19177607],\n",
              "       [ 0.14249891, -0.10297713, -0.17558464, ...,  0.00831658,\n",
              "         0.21410035, -0.10082401],\n",
              "       [ 0.53921753, -0.14041907, -0.32393223, ..., -0.2198629 ,\n",
              "        -0.00822764,  0.00500881]], dtype=float32)>"
            ]
          },
          "metadata": {},
          "execution_count": 15
        }
      ]
    },
    {
      "cell_type": "code",
      "source": [
        "model = tf.keras.Sequential()\n",
        "model.add(hub_layer)\n",
        "model.add(tf.keras.layers.Dense(16, activation='relu'))\n",
        "model.add(tf.keras.layers.Dropout(0.4)) #helps generalize\n",
        "model.add(tf.keras.layers.Dense(16, activation='relu'))\n",
        "model.add(tf.keras.layers.Dropout(0.4))\n",
        "model.add(tf.keras.layers.Dense(1, activation='sigmoid'))"
      ],
      "metadata": {
        "id": "PvDYsFZJ3ZOB"
      },
      "execution_count": 16,
      "outputs": []
    },
    {
      "cell_type": "code",
      "source": [
        "model.compile(optimizer=tf.keras.optimizers.Adam(learning_rate=0.001),\n",
        "              loss=tf.keras.losses.BinaryCrossentropy(),\n",
        "              metrics=['accuracy'])"
      ],
      "metadata": {
        "id": "4dGto0M-3bNK"
      },
      "execution_count": 17,
      "outputs": []
    },
    {
      "cell_type": "code",
      "source": [
        "model.evaluate(train_data)"
      ],
      "metadata": {
        "colab": {
          "base_uri": "https://localhost:8080/"
        },
        "id": "Exsa_SCw3ea1",
        "outputId": "095662be-4ddf-447c-8a4f-dd770fdace6f"
      },
      "execution_count": 18,
      "outputs": [
        {
          "output_type": "stream",
          "name": "stdout",
          "text": [
            "278/278 [==============================] - 1s 2ms/step - loss: 0.6962 - accuracy: 0.4796\n"
          ]
        },
        {
          "output_type": "execute_result",
          "data": {
            "text/plain": [
              "[0.6962130069732666, 0.4796171188354492]"
            ]
          },
          "metadata": {},
          "execution_count": 18
        }
      ]
    },
    {
      "cell_type": "code",
      "source": [
        "model.evaluate(valid_data)"
      ],
      "metadata": {
        "colab": {
          "base_uri": "https://localhost:8080/"
        },
        "id": "gLCGV5QE3jxj",
        "outputId": "9aaa5262-60c9-4bcc-8b22-988f7d70b059"
      },
      "execution_count": 19,
      "outputs": [
        {
          "output_type": "stream",
          "name": "stdout",
          "text": [
            "35/35 [==============================] - 0s 2ms/step - loss: 0.6963 - accuracy: 0.4820\n"
          ]
        },
        {
          "output_type": "execute_result",
          "data": {
            "text/plain": [
              "[0.6963114142417908, 0.4819819927215576]"
            ]
          },
          "metadata": {},
          "execution_count": 19
        }
      ]
    },
    {
      "cell_type": "code",
      "source": [
        "history = model.fit(train_data, epochs=5, validation_data=valid_data)"
      ],
      "metadata": {
        "colab": {
          "base_uri": "https://localhost:8080/"
        },
        "id": "fUF_xQ5P3mLS",
        "outputId": "8a31f18e-116f-43d4-c29f-cdedcc773beb"
      },
      "execution_count": 20,
      "outputs": [
        {
          "output_type": "stream",
          "name": "stdout",
          "text": [
            "Epoch 1/5\n",
            "278/278 [==============================] - 343s 1s/step - loss: 0.6847 - accuracy: 0.5385 - val_loss: 0.6361 - val_accuracy: 0.6667\n",
            "Epoch 2/5\n",
            "278/278 [==============================] - 371s 1s/step - loss: 0.5823 - accuracy: 0.7001 - val_loss: 0.5285 - val_accuracy: 0.7414\n",
            "Epoch 3/5\n",
            "278/278 [==============================] - 338s 1s/step - loss: 0.4597 - accuracy: 0.8006 - val_loss: 0.5262 - val_accuracy: 0.7432\n",
            "Epoch 4/5\n",
            "278/278 [==============================] - 358s 1s/step - loss: 0.3564 - accuracy: 0.8537 - val_loss: 0.5849 - val_accuracy: 0.7369\n",
            "Epoch 5/5\n",
            "278/278 [==============================] - 358s 1s/step - loss: 0.2618 - accuracy: 0.8964 - val_loss: 0.7359 - val_accuracy: 0.7324\n"
          ]
        }
      ]
    },
    {
      "cell_type": "code",
      "source": [
        "joblib.dump(model , 'model_jlib')"
      ],
      "metadata": {
        "colab": {
          "base_uri": "https://localhost:8080/"
        },
        "id": "nmMZvEcgvmS7",
        "outputId": "e0065878-a441-41b2-d596-9778f8e85ed4"
      },
      "execution_count": 27,
      "outputs": [
        {
          "output_type": "execute_result",
          "data": {
            "text/plain": [
              "['model_jlib']"
            ]
          },
          "metadata": {},
          "execution_count": 27
        }
      ]
    },
    {
      "cell_type": "code",
      "source": [
        "plt.plot(history.history['accuracy'],label = \"Training acc\")\n",
        "plt.plot(history.history['val_accuracy'],label = \"Validation acc\")\n",
        "plt.xlabel(\"Epoch\")\n",
        "plt.ylabel(\"Accuracy\")\n",
        "plt.legend()\n",
        "plt.show()"
      ],
      "metadata": {
        "colab": {
          "base_uri": "https://localhost:8080/",
          "height": 449
        },
        "id": "9RjId0GDt3kV",
        "outputId": "f075e9a8-d991-45e2-e620-a631d6d33f30"
      },
      "execution_count": 21,
      "outputs": [
        {
          "output_type": "display_data",
          "data": {
            "text/plain": [
              "<Figure size 640x480 with 1 Axes>"
            ],
            "image/png": "[encoded data removed]"
          },
          "metadata": {}
        }
      ]
    },
    {
      "cell_type": "code",
      "source": [
        "plt.plot(history.history['loss'],label = \"Training loss\")\n",
        "plt.plot(history.history['val_loss'],label = \"Validation loss\")\n",
        "plt.xlabel(\"Epoch\")\n",
        "plt.ylabel(\"Accuracy\")\n",
        "plt.legend()\n",
        "plt.show()"
      ],
      "metadata": {
        "colab": {
          "base_uri": "https://localhost:8080/",
          "height": 449
        },
        "id": "C1e4P5KZ4lE4",
        "outputId": "dab8c500-46e2-44ec-fe7a-182b5a8e6191"
      },
      "execution_count": 31,
      "outputs": [
        {
          "output_type": "display_data",
          "data": {
            "text/plain": [
              "<Figure size 640x480 with 1 Axes>"
            ],
            "image/png": "[encoded data removed]"
          },
          "metadata": {}
        }
      ]
    },
    {
      "cell_type": "code",
      "source": [
        "model.evaluate(test_data)"
      ],
      "metadata": {
        "colab": {
          "base_uri": "https://localhost:8080/"
        },
        "id": "8NRXAmYc2nf3",
        "outputId": "897d93a7-c8da-4629-c2bd-61b65914860f"
      },
      "execution_count": 52,
      "outputs": [
        {
          "output_type": "stream",
          "name": "stdout",
          "text": [
            "87/87 [==============================] - 26s 294ms/step - loss: 0.7681 - accuracy: 0.6796\n"
          ]
        },
        {
          "output_type": "execute_result",
          "data": {
            "text/plain": [
              "[0.7681056261062622, 0.6796396374702454]"
            ]
          },
          "metadata": {},
          "execution_count": 52
        }
      ]
    },
    {
      "cell_type": "code",
      "source": [
        "train, val, test = np.split(df.sample(frac=1), [int(0.5*len(df)), int(0.75*len(df))])"
      ],
      "metadata": {
        "id": "IsJrVpeX8Rk9"
      },
      "execution_count": 41,
      "outputs": []
    },
    {
      "cell_type": "code",
      "source": [
        "train_data = df_to_dataset(train)\n",
        "valid_data = df_to_dataset(val)\n",
        "test_data = df_to_dataset(test)"
      ],
      "metadata": {
        "id": "M-U0Fld58SfC"
      },
      "execution_count": 42,
      "outputs": []
    },
    {
      "cell_type": "code",
      "source": [
        "embedding = \"https://tfhub.dev/google/nnlm-en-dim50/2\"\n",
        "hub_layer = hub.KerasLayer(embedding, dtype=tf.string, trainable=True)"
      ],
      "metadata": {
        "id": "1BKVDHEh8bOx"
      },
      "execution_count": 43,
      "outputs": []
    },
    {
      "cell_type": "code",
      "source": [
        "model = tf.keras.Sequential()\n",
        "model.add(hub_layer)\n",
        "model.add(tf.keras.layers.Dense(16, activation='relu'))\n",
        "model.add(tf.keras.layers.Dropout(0.4)) #helps generalize\n",
        "model.add(tf.keras.layers.Dense(16, activation='relu'))\n",
        "model.add(tf.keras.layers.Dropout(0.4)) #helps generalize\n",
        "model.add(tf.keras.layers.Dense(1, activation='sigmoid'))"
      ],
      "metadata": {
        "id": "xkHbQtka8F0j"
      },
      "execution_count": 44,
      "outputs": []
    },
    {
      "cell_type": "code",
      "source": [
        "model.compile(optimizer=tf.keras.optimizers.Adam(learning_rate=0.001),\n",
        "              loss=tf.keras.losses.BinaryCrossentropy(),\n",
        "              metrics=['accuracy'])"
      ],
      "metadata": {
        "id": "jJKgMg_P8elC"
      },
      "execution_count": 45,
      "outputs": []
    },
    {
      "cell_type": "code",
      "source": [
        "history = model.fit(train_data, epochs=5, validation_data=valid_data)"
      ],
      "metadata": {
        "colab": {
          "base_uri": "https://localhost:8080/"
        },
        "id": "dWnNizq2-Ymk",
        "outputId": "4064c9e7-5ca3-4ae7-8cfd-aafc2c6eefbd"
      },
      "execution_count": 46,
      "outputs": [
        {
          "output_type": "stream",
          "name": "stdout",
          "text": [
            "Epoch 1/5\n",
            "174/174 [==============================] - 222s 1s/step - loss: 0.6922 - accuracy: 0.5295 - val_loss: 0.6734 - val_accuracy: 0.6328\n",
            "Epoch 2/5\n",
            "174/174 [==============================] - 225s 1s/step - loss: 0.6393 - accuracy: 0.6490 - val_loss: 0.5910 - val_accuracy: 0.7027\n",
            "Epoch 3/5\n",
            "174/174 [==============================] - 225s 1s/step - loss: 0.5204 - accuracy: 0.7591 - val_loss: 0.5448 - val_accuracy: 0.7186\n",
            "Epoch 4/5\n",
            "174/174 [==============================] - 225s 1s/step - loss: 0.3948 - accuracy: 0.8391 - val_loss: 0.5782 - val_accuracy: 0.7085\n",
            "Epoch 5/5\n",
            "174/174 [==============================] - 226s 1s/step - loss: 0.2827 - accuracy: 0.8919 - val_loss: 0.7106 - val_accuracy: 0.7023\n"
          ]
        }
      ]
    },
    {
      "cell_type": "code",
      "source": [
        "plt.plot(history.history['accuracy'],label = \"Training acc\")\n",
        "plt.plot(history.history['val_accuracy'],label = \"Validation acc\")\n",
        "plt.xlabel(\"Epoch\")\n",
        "plt.ylabel(\"Accuracy\")\n",
        "plt.legend()\n",
        "plt.show()"
      ],
      "metadata": {
        "colab": {
          "base_uri": "https://localhost:8080/",
          "height": 449
        },
        "outputId": "cf5de7a7-e341-4dde-992e-27f668c308ad",
        "id": "LWMoUXMzDyFs"
      },
      "execution_count": 48,
      "outputs": [
        {
          "output_type": "display_data",
          "data": {
            "text/plain": [
              "<Figure size 640x480 with 1 Axes>"
            ],
            "image/png": "[encoded data removed]"
          },
          "metadata": {}
        }
      ]
    },
    {
      "cell_type": "code",
      "source": [
        "plt.plot(history.history['loss'],label = \"Training loss\")\n",
        "plt.plot(history.history['val_loss'],label = \"Validation loss\")\n",
        "plt.xlabel(\"Epoch\")\n",
        "plt.ylabel(\"Accuracy\")\n",
        "plt.legend()\n",
        "plt.show()"
      ],
      "metadata": {
        "colab": {
          "base_uri": "https://localhost:8080/",
          "height": 449
        },
        "outputId": "b6d6a012-b3f4-4595-f7f7-e7b06e2ba5ce",
        "id": "R_Z3R1mKD4Hf"
      },
      "execution_count": 47,
      "outputs": [
        {
          "output_type": "display_data",
          "data": {
            "text/plain": [
              "<Figure size 640x480 with 1 Axes>"
            ],
            "image/png": "[encoded data removed]"
          },
          "metadata": {}
        }
      ]
    },
    {
      "cell_type": "code",
      "source": [
        "model.evaluate(test_data)"
      ],
      "metadata": {
        "colab": {
          "base_uri": "https://localhost:8080/"
        },
        "id": "adq0JQ2yD94o",
        "outputId": "8c9b5a66-74d1-43d7-c758-b634273ab70c"
      },
      "execution_count": 50,
      "outputs": [
        {
          "output_type": "stream",
          "name": "stdout",
          "text": [
            "87/87 [==============================] - 16s 183ms/step - loss: 0.7681 - accuracy: 0.6796\n"
          ]
        },
        {
          "output_type": "execute_result",
          "data": {
            "text/plain": [
              "[0.7681054472923279, 0.6796396374702454]"
            ]
          },
          "metadata": {},
          "execution_count": 50
        }
      ]
    },
    {
      "cell_type": "code",
      "source": [
        "minimum_nodes, maximum_nodes = 8, 32\n",
        "nodess = 8\n",
        "nodeops = list(range(\n",
        "    minimum_nodes,\n",
        "    maximum_nodes + 1,\n",
        "    nodess\n",
        "))\n",
        "nodeops"
      ],
      "metadata": {
        "colab": {
          "base_uri": "https://localhost:8080/"
        },
        "id": "Ci92qca1RTpN",
        "outputId": "67a99c4a-f67d-4978-f7ae-be204a20bc5a"
      },
      "execution_count": 60,
      "outputs": [
        {
          "output_type": "execute_result",
          "data": {
            "text/plain": [
              "[8, 16, 24, 32]"
            ]
          },
          "metadata": {},
          "execution_count": 60
        }
      ]
    },
    {
      "cell_type": "code",
      "source": [
        "def get_models(numLays: int,\n",
        "               minNodes: int,\n",
        "               maxNodes: int,\n",
        "               nodeSS: int,\n",
        "               hidden_layer_activation: str = 'relu',\n",
        "               num_nodes_at_output: int = 1,\n",
        "               output_layer_activation: str = 'sigmoid') -> list:\n",
        "\n",
        "    node_options = list(range(minNodes, maxNodes + 1, nodeSS))\n",
        "    lp = [node_options] * numLays\n",
        "    lnp = list(itertools.product(*lp))\n",
        "\n",
        "    models = []\n",
        "    for permutation in lnp:\n",
        "        model = tf.keras.Sequential()\n",
        "        model.add(hub_layer)\n",
        "        name = ''\n",
        "\n",
        "        for nl in permutation:\n",
        "            model.add(tf.keras.layers.Dense(nl, activation=hidden_layer_activation))\n",
        "            name += f'dense{nl}_'\n",
        "\n",
        "        model.add(tf.keras.layers.Dense(num_nodes_at_output, activation=output_layer_activation))\n",
        "        model._name = name[:-1]\n",
        "        models.append(model)\n",
        "\n",
        "    return models"
      ],
      "metadata": {
        "id": "ZbR385WAV03U"
      },
      "execution_count": 70,
      "outputs": []
    },
    {
      "cell_type": "code",
      "source": [
        "all_models = get_models(\n",
        "    numLays=2,\n",
        "    minNodes=16,\n",
        "    maxNodes=32,\n",
        "    nodeSS=16,\n",
        ")"
      ],
      "metadata": {
        "id": "u3PKtckUXO6U"
      },
      "execution_count": 82,
      "outputs": []
    },
    {
      "cell_type": "code",
      "source": [
        "print(f'#Models = {len(all_models)}')\n",
        "print()\n",
        "\n",
        "for model in all_models:\n",
        "    print(model.name)"
      ],
      "metadata": {
        "colab": {
          "base_uri": "https://localhost:8080/"
        },
        "id": "HJnHZ1jVYFuA",
        "outputId": "4324cc8c-64fa-4a4d-f1f5-a0427931c3e0"
      },
      "execution_count": 83,
      "outputs": [
        {
          "output_type": "stream",
          "name": "stdout",
          "text": [
            "#Models = 4\n",
            "\n",
            "dense16_dense16\n",
            "dense16_dense32\n",
            "dense32_dense16\n",
            "dense32_dense32\n"
          ]
        }
      ]
    },
    {
      "cell_type": "code",
      "source": [
        "from keras.src.metrics import accuracy\n",
        "def optimize(models: list,\n",
        "             trd: tf.data,\n",
        "             vd: tf.data,\n",
        "             ted: tf.data) -> pd.DataFrame:\n",
        "\n",
        "    # We'll store the results here\n",
        "    results = []\n",
        "\n",
        "    def train(model: tf.keras.Sequential) -> dict:\n",
        "        # Change this however you want\n",
        "        model.compile(optimizer=tf.keras.optimizers.Adam(learning_rate=0.001),\n",
        "              loss=tf.keras.losses.BinaryCrossentropy(),\n",
        "              metrics=['accuracy'])\n",
        "\n",
        "        # Train the model\n",
        "        history = model.fit(trd, epochs=3, validation_data=vd)\n",
        "\n",
        "        # Make predictions on the test set\n",
        "        loosse, auc = model.evaluate(ted)\n",
        "\n",
        "        # Return evaluation metrics on the test set\n",
        "        return {\n",
        "            'model_name': model.name,\n",
        "            'test_accuracy': auc,\n",
        "            'his_accuracy': history.history['accuracy'],\n",
        "            'his_los': history.history['val_accuracy'],\n",
        "            'his_vaccuracy': history.history['loss'],\n",
        "            'his_vlos': history.history['val_loss']\n",
        "        }\n",
        "\n",
        "    # Train every model and save results\n",
        "    for model in models:\n",
        "        try:\n",
        "            print(model.name, end=' ... ')\n",
        "            res = train(model=model)\n",
        "            results.append(res)\n",
        "        except Exception as e:\n",
        "            print(f'{model.name} --> {str(e)}')\n",
        "\n",
        "    return pd.DataFrame(results)"
      ],
      "metadata": {
        "id": "c7bYUdRbYkvA"
      },
      "execution_count": 84,
      "outputs": []
    },
    {
      "cell_type": "code",
      "source": [
        "optimization_results = optimize(\n",
        "    models=all_models,\n",
        "    trd= train_data,\n",
        "    vd= valid_data,\n",
        "    ted= test_data\n",
        ")"
      ],
      "metadata": {
        "colab": {
          "base_uri": "https://localhost:8080/"
        },
        "id": "PtOU9jEfeyi-",
        "outputId": "e88dacde-6b38-4b58-e852-f8b48ac151f9"
      },
      "execution_count": 85,
      "outputs": [
        {
          "output_type": "stream",
          "name": "stdout",
          "text": [
            "dense16_dense16 ... Epoch 1/3\n",
            "174/174 [==============================] - 221s 1s/step - loss: 0.4911 - accuracy: 0.7877 - val_loss: 0.6077 - val_accuracy: 0.7085\n",
            "Epoch 2/3\n",
            "174/174 [==============================] - 231s 1s/step - loss: 0.1845 - accuracy: 0.9346 - val_loss: 0.7887 - val_accuracy: 0.6944\n",
            "Epoch 3/3\n",
            "174/174 [==============================] - 231s 1s/step - loss: 0.0962 - accuracy: 0.9686 - val_loss: 0.9726 - val_accuracy: 0.6897\n",
            "87/87 [==============================] - 14s 164ms/step - loss: 1.0351 - accuracy: 0.6638\n",
            "dense16_dense32 ... Epoch 1/3\n",
            "174/174 [==============================] - 222s 1s/step - loss: 0.3421 - accuracy: 0.9184 - val_loss: 0.7845 - val_accuracy: 0.6977\n",
            "Epoch 2/3\n",
            "174/174 [==============================] - 227s 1s/step - loss: 0.0744 - accuracy: 0.9768 - val_loss: 1.0861 - val_accuracy: 0.6836\n",
            "Epoch 3/3\n",
            "174/174 [==============================] - 229s 1s/step - loss: 0.0355 - accuracy: 0.9888 - val_loss: 1.3060 - val_accuracy: 0.6789\n",
            "87/87 [==============================] - 15s 174ms/step - loss: 1.3999 - accuracy: 0.6638\n",
            "dense32_dense16 ... Epoch 1/3\n",
            "174/174 [==============================] - 229s 1s/step - loss: 0.2762 - accuracy: 0.9362 - val_loss: 0.9226 - val_accuracy: 0.6847\n",
            "Epoch 2/3\n",
            "174/174 [==============================] - 227s 1s/step - loss: 0.0369 - accuracy: 0.9897 - val_loss: 1.2758 - val_accuracy: 0.6746\n",
            "Epoch 3/3\n",
            "174/174 [==============================] - 227s 1s/step - loss: 0.0155 - accuracy: 0.9966 - val_loss: 1.4959 - val_accuracy: 0.6757\n",
            "87/87 [==============================] - 14s 161ms/step - loss: 1.6510 - accuracy: 0.6620\n",
            "dense32_dense32 ... Epoch 1/3\n",
            "174/174 [==============================] - 226s 1s/step - loss: 0.2109 - accuracy: 0.9645 - val_loss: 1.1435 - val_accuracy: 0.6674\n",
            "Epoch 2/3\n",
            "174/174 [==============================] - 226s 1s/step - loss: 0.0175 - accuracy: 0.9960 - val_loss: 1.5422 - val_accuracy: 0.6652\n",
            "Epoch 3/3\n",
            "174/174 [==============================] - 219s 1s/step - loss: 0.0074 - accuracy: 0.9982 - val_loss: 1.7726 - val_accuracy: 0.6674\n",
            "87/87 [==============================] - 14s 162ms/step - loss: 1.9355 - accuracy: 0.6609\n"
          ]
        }
      ]
    }
  ]
}